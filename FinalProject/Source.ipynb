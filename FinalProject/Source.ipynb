{
 "cells": [
  {
   "cell_type": "code",
   "execution_count": 11,
   "id": "9b7f7e9d",
   "metadata": {},
   "outputs": [
    {
     "ename": "FileNotFoundError",
     "evalue": "[WinError 2] The system cannot find the file specified",
     "output_type": "error",
     "traceback": [
      "\u001b[1;31m---------------------------------------------------------------------------\u001b[0m",
      "\u001b[1;31mFileNotFoundError\u001b[0m                         Traceback (most recent call last)",
      "Cell \u001b[1;32mIn[11], line 3\u001b[0m\n\u001b[0;32m      1\u001b[0m \u001b[38;5;28;01mfrom\u001b[39;00m \u001b[38;5;21;01mpyspark\u001b[39;00m\u001b[38;5;21;01m.\u001b[39;00m\u001b[38;5;21;01msql\u001b[39;00m \u001b[38;5;28;01mimport\u001b[39;00m SparkSession\n\u001b[1;32m----> 3\u001b[0m spark \u001b[38;5;241m=\u001b[39m SparkSession\u001b[38;5;241m.\u001b[39mbuilder\u001b[38;5;241m.\u001b[39mappName(\u001b[38;5;124m\"\u001b[39m\u001b[38;5;124mFinalProject\u001b[39m\u001b[38;5;124m\"\u001b[39m)\u001b[38;5;241m.\u001b[39mgetOrCreate()\n",
      "File \u001b[1;32mc:\\Users\\Admin\\anaconda3\\envs\\tpt\\Lib\\site-packages\\pyspark\\sql\\session.py:497\u001b[0m, in \u001b[0;36mSparkSession.Builder.getOrCreate\u001b[1;34m(self)\u001b[0m\n\u001b[0;32m    495\u001b[0m     sparkConf\u001b[38;5;241m.\u001b[39mset(key, value)\n\u001b[0;32m    496\u001b[0m \u001b[38;5;66;03m# This SparkContext may be an existing one.\u001b[39;00m\n\u001b[1;32m--> 497\u001b[0m sc \u001b[38;5;241m=\u001b[39m SparkContext\u001b[38;5;241m.\u001b[39mgetOrCreate(sparkConf)\n\u001b[0;32m    498\u001b[0m \u001b[38;5;66;03m# Do not update `SparkConf` for existing `SparkContext`, as it's shared\u001b[39;00m\n\u001b[0;32m    499\u001b[0m \u001b[38;5;66;03m# by all sessions.\u001b[39;00m\n\u001b[0;32m    500\u001b[0m session \u001b[38;5;241m=\u001b[39m SparkSession(sc, options\u001b[38;5;241m=\u001b[39m\u001b[38;5;28mself\u001b[39m\u001b[38;5;241m.\u001b[39m_options)\n",
      "File \u001b[1;32mc:\\Users\\Admin\\anaconda3\\envs\\tpt\\Lib\\site-packages\\pyspark\\context.py:515\u001b[0m, in \u001b[0;36mSparkContext.getOrCreate\u001b[1;34m(cls, conf)\u001b[0m\n\u001b[0;32m    513\u001b[0m \u001b[38;5;28;01mwith\u001b[39;00m SparkContext\u001b[38;5;241m.\u001b[39m_lock:\n\u001b[0;32m    514\u001b[0m     \u001b[38;5;28;01mif\u001b[39;00m SparkContext\u001b[38;5;241m.\u001b[39m_active_spark_context \u001b[38;5;129;01mis\u001b[39;00m \u001b[38;5;28;01mNone\u001b[39;00m:\n\u001b[1;32m--> 515\u001b[0m         SparkContext(conf\u001b[38;5;241m=\u001b[39mconf \u001b[38;5;129;01mor\u001b[39;00m SparkConf())\n\u001b[0;32m    516\u001b[0m     \u001b[38;5;28;01massert\u001b[39;00m SparkContext\u001b[38;5;241m.\u001b[39m_active_spark_context \u001b[38;5;129;01mis\u001b[39;00m \u001b[38;5;129;01mnot\u001b[39;00m \u001b[38;5;28;01mNone\u001b[39;00m\n\u001b[0;32m    517\u001b[0m     \u001b[38;5;28;01mreturn\u001b[39;00m SparkContext\u001b[38;5;241m.\u001b[39m_active_spark_context\n",
      "File \u001b[1;32mc:\\Users\\Admin\\anaconda3\\envs\\tpt\\Lib\\site-packages\\pyspark\\context.py:201\u001b[0m, in \u001b[0;36mSparkContext.__init__\u001b[1;34m(self, master, appName, sparkHome, pyFiles, environment, batchSize, serializer, conf, gateway, jsc, profiler_cls, udf_profiler_cls, memory_profiler_cls)\u001b[0m\n\u001b[0;32m    195\u001b[0m \u001b[38;5;28;01mif\u001b[39;00m gateway \u001b[38;5;129;01mis\u001b[39;00m \u001b[38;5;129;01mnot\u001b[39;00m \u001b[38;5;28;01mNone\u001b[39;00m \u001b[38;5;129;01mand\u001b[39;00m gateway\u001b[38;5;241m.\u001b[39mgateway_parameters\u001b[38;5;241m.\u001b[39mauth_token \u001b[38;5;129;01mis\u001b[39;00m \u001b[38;5;28;01mNone\u001b[39;00m:\n\u001b[0;32m    196\u001b[0m     \u001b[38;5;28;01mraise\u001b[39;00m \u001b[38;5;167;01mValueError\u001b[39;00m(\n\u001b[0;32m    197\u001b[0m         \u001b[38;5;124m\"\u001b[39m\u001b[38;5;124mYou are trying to pass an insecure Py4j gateway to Spark. This\u001b[39m\u001b[38;5;124m\"\u001b[39m\n\u001b[0;32m    198\u001b[0m         \u001b[38;5;124m\"\u001b[39m\u001b[38;5;124m is not allowed as it is a security risk.\u001b[39m\u001b[38;5;124m\"\u001b[39m\n\u001b[0;32m    199\u001b[0m     )\n\u001b[1;32m--> 201\u001b[0m SparkContext\u001b[38;5;241m.\u001b[39m_ensure_initialized(\u001b[38;5;28mself\u001b[39m, gateway\u001b[38;5;241m=\u001b[39mgateway, conf\u001b[38;5;241m=\u001b[39mconf)\n\u001b[0;32m    202\u001b[0m \u001b[38;5;28;01mtry\u001b[39;00m:\n\u001b[0;32m    203\u001b[0m     \u001b[38;5;28mself\u001b[39m\u001b[38;5;241m.\u001b[39m_do_init(\n\u001b[0;32m    204\u001b[0m         master,\n\u001b[0;32m    205\u001b[0m         appName,\n\u001b[1;32m   (...)\u001b[0m\n\u001b[0;32m    215\u001b[0m         memory_profiler_cls,\n\u001b[0;32m    216\u001b[0m     )\n",
      "File \u001b[1;32mc:\\Users\\Admin\\anaconda3\\envs\\tpt\\Lib\\site-packages\\pyspark\\context.py:436\u001b[0m, in \u001b[0;36mSparkContext._ensure_initialized\u001b[1;34m(cls, instance, gateway, conf)\u001b[0m\n\u001b[0;32m    434\u001b[0m \u001b[38;5;28;01mwith\u001b[39;00m SparkContext\u001b[38;5;241m.\u001b[39m_lock:\n\u001b[0;32m    435\u001b[0m     \u001b[38;5;28;01mif\u001b[39;00m \u001b[38;5;129;01mnot\u001b[39;00m SparkContext\u001b[38;5;241m.\u001b[39m_gateway:\n\u001b[1;32m--> 436\u001b[0m         SparkContext\u001b[38;5;241m.\u001b[39m_gateway \u001b[38;5;241m=\u001b[39m gateway \u001b[38;5;129;01mor\u001b[39;00m launch_gateway(conf)\n\u001b[0;32m    437\u001b[0m         SparkContext\u001b[38;5;241m.\u001b[39m_jvm \u001b[38;5;241m=\u001b[39m SparkContext\u001b[38;5;241m.\u001b[39m_gateway\u001b[38;5;241m.\u001b[39mjvm\n\u001b[0;32m    439\u001b[0m     \u001b[38;5;28;01mif\u001b[39;00m instance:\n",
      "File \u001b[1;32mc:\\Users\\Admin\\anaconda3\\envs\\tpt\\Lib\\site-packages\\pyspark\\java_gateway.py:100\u001b[0m, in \u001b[0;36mlaunch_gateway\u001b[1;34m(conf, popen_kwargs)\u001b[0m\n\u001b[0;32m     97\u001b[0m     proc \u001b[38;5;241m=\u001b[39m Popen(command, \u001b[38;5;241m*\u001b[39m\u001b[38;5;241m*\u001b[39mpopen_kwargs)\n\u001b[0;32m     98\u001b[0m \u001b[38;5;28;01melse\u001b[39;00m:\n\u001b[0;32m     99\u001b[0m     \u001b[38;5;66;03m# preexec_fn not supported on Windows\u001b[39;00m\n\u001b[1;32m--> 100\u001b[0m     proc \u001b[38;5;241m=\u001b[39m Popen(command, \u001b[38;5;241m*\u001b[39m\u001b[38;5;241m*\u001b[39mpopen_kwargs)\n\u001b[0;32m    102\u001b[0m \u001b[38;5;66;03m# Wait for the file to appear, or for the process to exit, whichever happens first.\u001b[39;00m\n\u001b[0;32m    103\u001b[0m \u001b[38;5;28;01mwhile\u001b[39;00m \u001b[38;5;129;01mnot\u001b[39;00m proc\u001b[38;5;241m.\u001b[39mpoll() \u001b[38;5;129;01mand\u001b[39;00m \u001b[38;5;129;01mnot\u001b[39;00m os\u001b[38;5;241m.\u001b[39mpath\u001b[38;5;241m.\u001b[39misfile(conn_info_file):\n",
      "File \u001b[1;32mc:\\Users\\Admin\\anaconda3\\envs\\tpt\\Lib\\subprocess.py:1026\u001b[0m, in \u001b[0;36mPopen.__init__\u001b[1;34m(self, args, bufsize, executable, stdin, stdout, stderr, preexec_fn, close_fds, shell, cwd, env, universal_newlines, startupinfo, creationflags, restore_signals, start_new_session, pass_fds, user, group, extra_groups, encoding, errors, text, umask, pipesize, process_group)\u001b[0m\n\u001b[0;32m   1022\u001b[0m         \u001b[38;5;28;01mif\u001b[39;00m \u001b[38;5;28mself\u001b[39m\u001b[38;5;241m.\u001b[39mtext_mode:\n\u001b[0;32m   1023\u001b[0m             \u001b[38;5;28mself\u001b[39m\u001b[38;5;241m.\u001b[39mstderr \u001b[38;5;241m=\u001b[39m io\u001b[38;5;241m.\u001b[39mTextIOWrapper(\u001b[38;5;28mself\u001b[39m\u001b[38;5;241m.\u001b[39mstderr,\n\u001b[0;32m   1024\u001b[0m                     encoding\u001b[38;5;241m=\u001b[39mencoding, errors\u001b[38;5;241m=\u001b[39merrors)\n\u001b[1;32m-> 1026\u001b[0m     \u001b[38;5;28mself\u001b[39m\u001b[38;5;241m.\u001b[39m_execute_child(args, executable, preexec_fn, close_fds,\n\u001b[0;32m   1027\u001b[0m                         pass_fds, cwd, env,\n\u001b[0;32m   1028\u001b[0m                         startupinfo, creationflags, shell,\n\u001b[0;32m   1029\u001b[0m                         p2cread, p2cwrite,\n\u001b[0;32m   1030\u001b[0m                         c2pread, c2pwrite,\n\u001b[0;32m   1031\u001b[0m                         errread, errwrite,\n\u001b[0;32m   1032\u001b[0m                         restore_signals,\n\u001b[0;32m   1033\u001b[0m                         gid, gids, uid, umask,\n\u001b[0;32m   1034\u001b[0m                         start_new_session, process_group)\n\u001b[0;32m   1035\u001b[0m \u001b[38;5;28;01mexcept\u001b[39;00m:\n\u001b[0;32m   1036\u001b[0m     \u001b[38;5;66;03m# Cleanup if the child failed starting.\u001b[39;00m\n\u001b[0;32m   1037\u001b[0m     \u001b[38;5;28;01mfor\u001b[39;00m f \u001b[38;5;129;01min\u001b[39;00m \u001b[38;5;28mfilter\u001b[39m(\u001b[38;5;28;01mNone\u001b[39;00m, (\u001b[38;5;28mself\u001b[39m\u001b[38;5;241m.\u001b[39mstdin, \u001b[38;5;28mself\u001b[39m\u001b[38;5;241m.\u001b[39mstdout, \u001b[38;5;28mself\u001b[39m\u001b[38;5;241m.\u001b[39mstderr)):\n",
      "File \u001b[1;32mc:\\Users\\Admin\\anaconda3\\envs\\tpt\\Lib\\subprocess.py:1538\u001b[0m, in \u001b[0;36mPopen._execute_child\u001b[1;34m(self, args, executable, preexec_fn, close_fds, pass_fds, cwd, env, startupinfo, creationflags, shell, p2cread, p2cwrite, c2pread, c2pwrite, errread, errwrite, unused_restore_signals, unused_gid, unused_gids, unused_uid, unused_umask, unused_start_new_session, unused_process_group)\u001b[0m\n\u001b[0;32m   1536\u001b[0m \u001b[38;5;66;03m# Start the process\u001b[39;00m\n\u001b[0;32m   1537\u001b[0m \u001b[38;5;28;01mtry\u001b[39;00m:\n\u001b[1;32m-> 1538\u001b[0m     hp, ht, pid, tid \u001b[38;5;241m=\u001b[39m _winapi\u001b[38;5;241m.\u001b[39mCreateProcess(executable, args,\n\u001b[0;32m   1539\u001b[0m                              \u001b[38;5;66;03m# no special security\u001b[39;00m\n\u001b[0;32m   1540\u001b[0m                              \u001b[38;5;28;01mNone\u001b[39;00m, \u001b[38;5;28;01mNone\u001b[39;00m,\n\u001b[0;32m   1541\u001b[0m                              \u001b[38;5;28mint\u001b[39m(\u001b[38;5;129;01mnot\u001b[39;00m close_fds),\n\u001b[0;32m   1542\u001b[0m                              creationflags,\n\u001b[0;32m   1543\u001b[0m                              env,\n\u001b[0;32m   1544\u001b[0m                              cwd,\n\u001b[0;32m   1545\u001b[0m                              startupinfo)\n\u001b[0;32m   1546\u001b[0m \u001b[38;5;28;01mfinally\u001b[39;00m:\n\u001b[0;32m   1547\u001b[0m     \u001b[38;5;66;03m# Child is launched. Close the parent's copy of those pipe\u001b[39;00m\n\u001b[0;32m   1548\u001b[0m     \u001b[38;5;66;03m# handles that only the child should have open.  You need\u001b[39;00m\n\u001b[1;32m   (...)\u001b[0m\n\u001b[0;32m   1551\u001b[0m     \u001b[38;5;66;03m# pipe will not close when the child process exits and the\u001b[39;00m\n\u001b[0;32m   1552\u001b[0m     \u001b[38;5;66;03m# ReadFile will hang.\u001b[39;00m\n\u001b[0;32m   1553\u001b[0m     \u001b[38;5;28mself\u001b[39m\u001b[38;5;241m.\u001b[39m_close_pipe_fds(p2cread, p2cwrite,\n\u001b[0;32m   1554\u001b[0m                          c2pread, c2pwrite,\n\u001b[0;32m   1555\u001b[0m                          errread, errwrite)\n",
      "\u001b[1;31mFileNotFoundError\u001b[0m: [WinError 2] The system cannot find the file specified"
     ]
    }
   ],
   "source": [
    "from pyspark.sql import SparkSession\n",
    "\n",
    "spark = SparkSession.builder.appName(\"FinalProject\").getOrCreate()"
   ]
  },
  {
   "cell_type": "code",
   "execution_count": null,
   "id": "a269bd5f",
   "metadata": {},
   "outputs": [],
   "source": [
    "from pyspark.sql.types import (IntegerType, DoubleType, StringType)\n",
    "from pyspark.sql.functions import col,udf,lit,expr,collect_set\n",
    "import pyspark.sql.functions as F\n",
    "from pyspark.sql.functions import (avg, col, countDistinct, split, isnan, when, count, udf, round as sqlround)\n",
    "import math\n",
    "\n",
    "df = spark.read.format(\"csv\").option(\"header\",\"true\").load(\"C:/Users/dell/OneDrive - Trường ĐH CNTT - University of Information Technology/Máy tính/BigData/FinalProject/FinalProject_SourceCode/Chennai_Housing_Sale.csv\")\n",
    "\n",
    "def VisualizeCorrelation(dataframe, columns):\n",
    "  corr_matrix = []\n",
    "  x_label = []\n",
    "  y_label = []\n",
    "\n",
    "  for col in columns:\n",
    "    ls = []\n",
    "    for col2 in columns:\n",
    "      ls.append(df.stat.corr(col, col2))\n",
    "    corr_matrix.append(ls)\n",
    "    x_label.append(col)\n",
    "    y_label.append(col)\n",
    "\n",
    "\n",
    "  sns.set()\n",
    "  fig, ax = plt.subplots(figsize = (15,6))\n",
    "  sns.heatmap(corr_matrix,  xticklabels=x_label, yticklabels=y_label ,annot = True)\n",
    "\n",
    "#Label Encoding\n",
    "def label_encode(df, input_col, output_col):\n",
    "    distinct_values = df.select(input_col).distinct().collect()\n",
    "    mapping = {row[input_col]: index for index, row in enumerate(distinct_values)}\n",
    "    mapping_broadcast = spark.sparkContext.broadcast(mapping)\n",
    "    def label_encode_udf(value):\n",
    "        return mapping_broadcast.value.get(value, None)\n",
    "    spark.udf.register(\"label_encode_udf\", label_encode_udf, DoubleType())\n",
    "    df = df.withColumn(output_col, lit(None).cast(DoubleType()))\n",
    "    for value, index in mapping.items():\n",
    "        condition = col(input_col) == lit(value)\n",
    "        df = df.withColumn(output_col, when(condition, lit(index).cast(DoubleType())).otherwise(col(output_col)))\n",
    "    df = df.drop(input_col).withColumnRenamed(output_col, input_col)\n",
    "    return df\n",
    "\n",
    "#Conver string to double\n",
    "def convert_string_to_double(df, column_name):\n",
    "    df = df.withColumn(column_name, col(column_name).cast(DoubleType()))\n",
    "    return df\n",
    "\n",
    "#Conver string to int\n",
    "def convert_string_to_int(df, column_name):\n",
    "    df = df.withColumn(column_name, col(column_name).cast(IntegerType()))\n",
    "    return df\n",
    "\n",
    "#Extract Year from Date\n",
    "def extract_year_from_date(df, date_column, output_column):\n",
    "    df = df.withColumn(output_column, expr(f\"substring({date_column}, -4)\"))\n",
    "    return df\n",
    "\n",
    "def math_cal(lines,index,i):\n",
    "    return (index, double(lines[i]) * double(lines[index]))\n",
    "\n",
    "def linear_regression(data_train, X_train, y_train):\n",
    "    value_X = []\n",
    "    value_y = []\n",
    "    \n",
    "    data_train.createOrReplaceTempView(\"data\")\n",
    "        \n",
    "    columns_data =\"\"\n",
    "        \n",
    "    for i in range(len(X_train)):\n",
    "        columns_data = columns_data + X_train[i] + \",\"\n",
    "    columns_data = columns_data + y_train[0]\n",
    "        \n",
    "    sql_data_train = spark.sql(\"SELECT \"+ columns_data +\" FROM data\")\n",
    "        \n",
    "    data_train_rdd = sql_data_train.rdd\n",
    "        \n",
    "    n = data_train_rdd.count()\n",
    "        \n",
    "    value_X.append(float(n))\n",
    "        \n",
    "    map_X_sum = data_train_rdd.map(lambda lines: [(str(index), float(lines[index])) for index in range(len(lines))])\n",
    "    flatmap_X_sum = map_X_sum.flatMap(lambda lines: lines)\n",
    "    reduce_X_sum = flatmap_X_sum.reduceByKey(lambda a,b: a+b)\n",
    "    data_X_sum=reduce_X_sum.collect()\n",
    "        \n",
    "        \n",
    "    for i in range(len(data_X_sum)):\n",
    "        if(i == len(data_X_sum)-1):\n",
    "            value_y.append(data_X_sum[i][1])\n",
    "        else:\n",
    "            value_X.append(data_X_sum[i][1])\n",
    "                \n",
    "    for i in range (len(data_X_sum)-1):\n",
    "        map_X_vol = data_train_rdd.map(lambda lines:[math_cal(lines, index, i) for index in range(len(lines))])\n",
    "        flatmap_X_vol = map_X_vol.flatMap(lambda lines: lines)\n",
    "        reduce_X_vol = flatmap_X_vol.reduceByKey(lambda a,b: a+b)\n",
    "        data_X_vol = reduce_X_vol.collect()\n",
    "        \n",
    "        value_X.append(data_X_sum[i][1])\n",
    "            \n",
    "        for j in range(len(data_X_vol)):\n",
    "            if(j == len(data_X_vol) - 1):\n",
    "                value_y.append(data_X_vol[j][1])\n",
    "            else:\n",
    "                value_X.append(data_X_vol[j][1])\n",
    "                    \n",
    "    vector_X = np.asarray(value_X, dtype=np.float32)\n",
    "    vector_X_convert=np.reshape(vector_X, (len(X_train)+1, len(X_train)+1))\n",
    "\n",
    "    vector_y = np.asarray(value_y, dtype=np.float32)\n",
    "    vector_y_convert=np.reshape(vector_y, (len(X_train)+1, 1))\n",
    "\n",
    "    coefficient = np.linalg.lstsq(vector_X_convert, vector_y_convert)[0]\n",
    "        \n",
    "    return coefficient\n",
    "\n",
    "def predict(data_test, coefficient):\n",
    "    y=coefficient[0].item()\n",
    "    for i in range(len(data_test.columns)-1):\n",
    "        y = y + data_test[i+1]*coefficient[i+1].item()\n",
    "    return y\n",
    "\n",
    "def R_square(df_predict):\n",
    "    avg_price = df_predict.select('price').summary('mean').collect()[0][1]\n",
    "    df_predict_avg= df_predict.withColumn(\"price_avg_log\",(col(\"price\")-avg_price)*(col(\"price\")-avg_price))\n",
    "    avg_price_avg_log=df_predict_avg.select('price_avg_log').summary('mean').collect()[0][1]\n",
    "    sst=float(avg_price_avg_log)*float(df_predict_avg.select('price_avg_log').count())\n",
    "    \n",
    "    df_predict_avg_price= df_predict.withColumn(\"price_predict_avg_log\",(col(\"price\")-col(\"price_predict\"))*(col(\"price\")-col(\"price_predict\")))\n",
    "    avg_price_predict_avg_log = df_predict_avg_price.select('price_predict_avg_log').summary('mean').collect()[0][1]\n",
    "    sse = float(avg_price_predict_avg_log)*float(df_predict_avg_price.select('price_predict_avg_log').count())\n",
    "    \n",
    "    R_square=1-(sse/sst)\n",
    "    \n",
    "    return R_square\n",
    "\n",
    "def RMSD(df_predict, n):\n",
    "    \n",
    "    df_predict_avg_price= df_predict.withColumn(\"price_predict_avg_log\",(col(\"price\")-col(\"price_predict\"))*(col(\"price\")-col(\"price_predict\")))\n",
    "    avg_price_predict_avg_log = df_predict_avg_price.select('price_predict_avg_log').summary('mean').collect()[0][1]\n",
    "    sse = float(avg_price_predict_avg_log)*float(df_predict_avg_price.select('price_predict_avg_log').count())\n",
    "    \n",
    "    return math.sqrt(sse/n)"
   ]
  },
  {
   "cell_type": "code",
   "execution_count": null,
   "id": "c53c15f8",
   "metadata": {},
   "outputs": [],
   "source": [
    "df.printSchema()"
   ]
  },
  {
   "cell_type": "code",
   "execution_count": null,
   "id": "7c5859d5",
   "metadata": {},
   "outputs": [],
   "source": [
    "# Check for null values in each column\n",
    "null_counts = df.select([count(when(col(c).isNull(), c)).alias(c) for c in df.columns])\n",
    "null_counts.show(truncate=False)"
   ]
  },
  {
   "cell_type": "code",
   "execution_count": null,
   "id": "8e9be013",
   "metadata": {},
   "outputs": [],
   "source": [
    "df_distinct_counts = df.select([countDistinct(col(c)).alias(c) for c in df.columns])\n",
    "\n",
    "df_distinct_counts.show()"
   ]
  },
  {
   "cell_type": "code",
   "execution_count": null,
   "id": "55730e76",
   "metadata": {},
   "outputs": [],
   "source": [
    "#Delete column PRT_ID\n",
    "df = df.drop(\"PRT_ID\")"
   ]
  },
  {
   "cell_type": "code",
   "execution_count": null,
   "id": "891e7f1f",
   "metadata": {},
   "outputs": [],
   "source": [
    "df = extract_year_from_date(df, date_column=\"DATE_SALE\", output_column=\"YEAR_SALE\")\n",
    "df = df.drop(\"DATE_SALE\")\n",
    "\n",
    "df = extract_year_from_date(df, date_column=\"DATE_BUILD\", output_column=\"YEAR_BUILD\")\n",
    "df = df.drop(\"DATE_BUILD\")\n",
    "df.show(10)"
   ]
  },
  {
   "cell_type": "code",
   "execution_count": null,
   "id": "65279f8f",
   "metadata": {},
   "outputs": [],
   "source": [
    "columns = [\"QS_ROOMS\", \"QS_BATHROOM\", \"QS_BEDROOM\", \"QS_OVERALL\"]\n",
    "\n",
    "for col_name in columns:\n",
    "    df = convert_string_to_double(df, col_name)\n"
   ]
  },
  {
   "cell_type": "code",
   "execution_count": null,
   "id": "24f81805",
   "metadata": {},
   "outputs": [],
   "source": [
    "columns = [\"INT_SQFT\", \"DIST_MAINROAD\", \"N_BEDROOM\", \"N_BATHROOM\",\n",
    "                   \"N_ROOM\", \"REG_FEE\", \"COMMIS\", \"SALES_PRICE\", \"YEAR_SALE\", \"YEAR_BUILD\"]\n",
    "\n",
    "for col_name in columns:\n",
    "    df = convert_string_to_int(df, col_name)\n"
   ]
  },
  {
   "cell_type": "code",
   "execution_count": null,
   "id": "61bf40e9",
   "metadata": {},
   "outputs": [],
   "source": [
    "columns = [\"AREA\", \"BUILDTYPE\", \"UTILITY_AVAIL\", \"STREET\", \"PARK_FACIL\", \"MZZONE\", \"SALE_COND\"]\n",
    "\n",
    "for col_name in columns:\n",
    "    df = label_encode(df, input_col=col_name, output_col=f\"{col_name}_Label\")\n",
    "\n",
    "df.printSchema()"
   ]
  },
  {
   "cell_type": "code",
   "execution_count": null,
   "id": "5d8ccbab",
   "metadata": {},
   "outputs": [],
   "source": [
    "df.show(10)"
   ]
  },
  {
   "cell_type": "code",
   "execution_count": null,
   "id": "b328befe",
   "metadata": {},
   "outputs": [],
   "source": [
    "#Tìm hệ số tương quan giữa các cột với cột price\n",
    "mid = int((len(df.columns) + 1) / 2) \n",
    "listCol1 = df.columns[0:mid]\n",
    "listCol2 = df.columns[mid:len(df.columns)]\n",
    "listCol2.insert(0, df.columns[0])\n",
    "\n",
    "VisualizeCorrelation(df, listCol1)\n",
    "#VisualizeCorrelation(df, listCol2)"
   ]
  },
  {
   "cell_type": "code",
   "execution_count": null,
   "id": "05ae7804",
   "metadata": {},
   "outputs": [],
   "source": [
    "VisualizeCorrelation(df, listCol2)"
   ]
  },
  {
   "cell_type": "code",
   "execution_count": null,
   "id": "10e9df2f",
   "metadata": {},
   "outputs": [],
   "source": [
    "df.printSchema()"
   ]
  },
  {
   "cell_type": "code",
   "execution_count": null,
   "id": "dfe5769d",
   "metadata": {},
   "outputs": [],
   "source": [
    "df.show(30)"
   ]
  },
  {
   "cell_type": "code",
   "execution_count": null,
   "id": "954e76c7",
   "metadata": {},
   "outputs": [],
   "source": [
    "X_train = df.columns\n",
    "X_train.remove('price')\n",
    "\n",
    "y_train = ['price']"
   ]
  },
  {
   "cell_type": "code",
   "execution_count": null,
   "id": "a690df64",
   "metadata": {},
   "outputs": [],
   "source": [
    "data_train = df.limit(int(df.count() * 0.7))\n",
    "data_test = df.subtract(data_train)\n",
    "\n",
    "coefficient = linear_regression(data_train,X_train,y_train)\n",
    "\n"
   ]
  },
  {
   "cell_type": "code",
   "execution_count": null,
   "id": "9f67a671",
   "metadata": {},
   "outputs": [],
   "source": [
    "df_predict = data_test.withColumn(\"price_predict\",predict(data_test,coefficient))\n",
    "df_predict.show(30)   "
   ]
  },
  {
   "cell_type": "code",
   "execution_count": null,
   "id": "2d9ad914",
   "metadata": {},
   "outputs": [],
   "source": [
    "print(\"R_square: \"+ str(R_square(df_predict)))\n",
    "print(\"RMSD: \"+str(RMSD(df_predict,data_test.count())))"
   ]
  },
  {
   "cell_type": "code",
   "execution_count": null,
   "id": "33a10d2a",
   "metadata": {},
   "outputs": [],
   "source": []
  }
 ],
 "metadata": {
  "kernelspec": {
   "display_name": "Python 3 (ipykernel)",
   "language": "python",
   "name": "python3"
  },
  "language_info": {
   "codemirror_mode": {
    "name": "ipython",
    "version": 3
   },
   "file_extension": ".py",
   "mimetype": "text/x-python",
   "name": "python",
   "nbconvert_exporter": "python",
   "pygments_lexer": "ipython3",
   "version": "3.11.5"
  }
 },
 "nbformat": 4,
 "nbformat_minor": 5
}
